{
 "cells": [
  {
   "cell_type": "code",
   "execution_count": 1,
   "id": "640ffdc6",
   "metadata": {},
   "outputs": [],
   "source": [
    "import numpy as np"
   ]
  },
  {
   "cell_type": "markdown",
   "id": "3dbb3e95",
   "metadata": {},
   "source": [
    "# 1. Conversion from other Python structures (lists, tuples, etc.)"
   ]
  },
  {
   "cell_type": "code",
   "execution_count": 2,
   "id": "86ce1c2f",
   "metadata": {},
   "outputs": [
    {
     "ename": "SyntaxError",
     "evalue": "closing parenthesis ')' does not match opening parenthesis '[' (500873147.py, line 1)",
     "output_type": "error",
     "traceback": [
      "\u001b[1;36m  Cell \u001b[1;32mIn[2], line 1\u001b[1;36m\u001b[0m\n\u001b[1;33m    bhau = np.array([[1,2,3], [4,5,6], [7,8,9])\u001b[0m\n\u001b[1;37m                                              ^\u001b[0m\n\u001b[1;31mSyntaxError\u001b[0m\u001b[1;31m:\u001b[0m closing parenthesis ')' does not match opening parenthesis '['\n"
     ]
    }
   ],
   "source": [
    "bhau = np.array([[1,2,3], [4,5,6], [7,8,9])"
   ]
  },
  {
   "cell_type": "code",
   "execution_count": 3,
   "id": "5990763e",
   "metadata": {},
   "outputs": [],
   "source": [
    "bhau = np.array([[1,2,3], [4,5,6], [7,8,9]])"
   ]
  },
  {
   "cell_type": "code",
   "execution_count": 4,
   "id": "e0e635c2",
   "metadata": {},
   "outputs": [
    {
     "data": {
      "text/plain": [
       "array([[1, 2, 3],\n",
       "       [4, 5, 6],\n",
       "       [7, 8, 9]])"
      ]
     },
     "execution_count": 4,
     "metadata": {},
     "output_type": "execute_result"
    }
   ],
   "source": [
    "bhau"
   ]
  },
  {
   "cell_type": "code",
   "execution_count": 5,
   "id": "421cf554",
   "metadata": {},
   "outputs": [
    {
     "data": {
      "text/plain": [
       "dtype('int32')"
      ]
     },
     "execution_count": 5,
     "metadata": {},
     "output_type": "execute_result"
    }
   ],
   "source": [
    "bhau.dtype"
   ]
  },
  {
   "cell_type": "code",
   "execution_count": 6,
   "id": "54cfb71c",
   "metadata": {},
   "outputs": [
    {
     "data": {
      "text/plain": [
       "(3, 3)"
      ]
     },
     "execution_count": 6,
     "metadata": {},
     "output_type": "execute_result"
    }
   ],
   "source": [
    "bhau.shape"
   ]
  },
  {
   "cell_type": "code",
   "execution_count": 7,
   "id": "ddee42e1",
   "metadata": {},
   "outputs": [
    {
     "data": {
      "text/plain": [
       "9"
      ]
     },
     "execution_count": 7,
     "metadata": {},
     "output_type": "execute_result"
    }
   ],
   "source": [
    "bhau.size"
   ]
  },
  {
   "cell_type": "markdown",
   "id": "ed7f5369",
   "metadata": {},
   "source": [
    "this was a list"
   ]
  },
  {
   "cell_type": "markdown",
   "id": "abdf7941",
   "metadata": {},
   "source": [
    "**dictionary**\n"
   ]
  },
  {
   "cell_type": "code",
   "execution_count": 8,
   "id": "034454ba",
   "metadata": {},
   "outputs": [],
   "source": [
    "chintu = np.array({21,2541,23,475})"
   ]
  },
  {
   "cell_type": "code",
   "execution_count": 9,
   "id": "ac193952",
   "metadata": {},
   "outputs": [
    {
     "data": {
      "text/plain": [
       "array({21, 475, 2541, 23}, dtype=object)"
      ]
     },
     "execution_count": 9,
     "metadata": {},
     "output_type": "execute_result"
    }
   ],
   "source": [
    "chintu"
   ]
  },
  {
   "cell_type": "markdown",
   "id": "991fc406",
   "metadata": {},
   "source": [
    "here it shows datatype as object............"
   ]
  },
  {
   "cell_type": "markdown",
   "id": "9cfe5869",
   "metadata": {},
   "source": [
    "it is advised to use list arrays of int or floating point numbers rather than objects when huge calculations are involved>>"
   ]
  },
  {
   "cell_type": "markdown",
   "id": "65dcc397",
   "metadata": {},
   "source": [
    "# 2. Intrinsic numpy array creation objects (in-built fucntions like arange, zeros, ones,etc.)"
   ]
  },
  {
   "cell_type": "markdown",
   "id": "86b5b28c",
   "metadata": {},
   "source": [
    "**zeros**\n"
   ]
  },
  {
   "cell_type": "code",
   "execution_count": 10,
   "id": "02ed0554",
   "metadata": {},
   "outputs": [],
   "source": [
    "ZeroArr = np.zeros((3,5))"
   ]
  },
  {
   "cell_type": "code",
   "execution_count": 11,
   "id": "b5048894",
   "metadata": {},
   "outputs": [
    {
     "data": {
      "text/plain": [
       "array([[0., 0., 0., 0., 0.],\n",
       "       [0., 0., 0., 0., 0.],\n",
       "       [0., 0., 0., 0., 0.]])"
      ]
     },
     "execution_count": 11,
     "metadata": {},
     "output_type": "execute_result"
    }
   ],
   "source": [
    "ZeroArr"
   ]
  },
  {
   "cell_type": "markdown",
   "id": "25901f5d",
   "metadata": {},
   "source": [
    "creates an array of 3 rows and 5 columns filled with zeroes"
   ]
  },
  {
   "cell_type": "code",
   "execution_count": 12,
   "id": "165413f4",
   "metadata": {},
   "outputs": [
    {
     "data": {
      "text/plain": [
       "dtype('float64')"
      ]
     },
     "execution_count": 12,
     "metadata": {},
     "output_type": "execute_result"
    }
   ],
   "source": [
    "ZeroArr.dtype"
   ]
  },
  {
   "cell_type": "code",
   "execution_count": 13,
   "id": "f97c5001",
   "metadata": {},
   "outputs": [
    {
     "data": {
      "text/plain": [
       "(3, 5)"
      ]
     },
     "execution_count": 13,
     "metadata": {},
     "output_type": "execute_result"
    }
   ],
   "source": [
    "ZeroArr.shape"
   ]
  },
  {
   "cell_type": "code",
   "execution_count": 14,
   "id": "c4625e76",
   "metadata": {},
   "outputs": [
    {
     "data": {
      "text/plain": [
       "15"
      ]
     },
     "execution_count": 14,
     "metadata": {},
     "output_type": "execute_result"
    }
   ],
   "source": [
    "ZeroArr.size"
   ]
  },
  {
   "cell_type": "markdown",
   "id": "15b77608",
   "metadata": {},
   "source": [
    "**arange**\n"
   ]
  },
  {
   "cell_type": "code",
   "execution_count": 17,
   "id": "0bf187f8",
   "metadata": {},
   "outputs": [
    {
     "ename": "NameError",
     "evalue": "name 'arange' is not defined",
     "output_type": "error",
     "traceback": [
      "\u001b[1;31m---------------------------------------------------------------------------\u001b[0m",
      "\u001b[1;31mNameError\u001b[0m                                 Traceback (most recent call last)",
      "Cell \u001b[1;32mIn[17], line 1\u001b[0m\n\u001b[1;32m----> 1\u001b[0m RangeArr \u001b[38;5;241m=\u001b[39m np\u001b[38;5;241m.\u001b[39marray(\u001b[43marange\u001b[49m(\u001b[38;5;241m10\u001b[39m))\n",
      "\u001b[1;31mNameError\u001b[0m: name 'arange' is not defined"
     ]
    }
   ],
   "source": [
    "RangeArr = np.array(arange(10))"
   ]
  },
  {
   "cell_type": "code",
   "execution_count": 18,
   "id": "281a87a5",
   "metadata": {},
   "outputs": [],
   "source": [
    "RangeArr = np.arange(10)"
   ]
  },
  {
   "cell_type": "code",
   "execution_count": 19,
   "id": "f2db8f95",
   "metadata": {},
   "outputs": [
    {
     "data": {
      "text/plain": [
       "array([0, 1, 2, 3, 4, 5, 6, 7, 8, 9])"
      ]
     },
     "execution_count": 19,
     "metadata": {},
     "output_type": "execute_result"
    }
   ],
   "source": [
    "RangeArr"
   ]
  },
  {
   "cell_type": "markdown",
   "id": "583517c8",
   "metadata": {},
   "source": [
    "arange returns an array starting from 0 to n-1"
   ]
  },
  {
   "cell_type": "markdown",
   "id": "6623b723",
   "metadata": {},
   "source": [
    "**linspace**"
   ]
  },
  {
   "cell_type": "code",
   "execution_count": 20,
   "id": "8c0bf163",
   "metadata": {},
   "outputs": [],
   "source": [
    "LinspaceArr = np.linspace(1,4,10)"
   ]
  },
  {
   "cell_type": "code",
   "execution_count": 21,
   "id": "4fda05d0",
   "metadata": {},
   "outputs": [
    {
     "data": {
      "text/plain": [
       "array([1.        , 1.33333333, 1.66666667, 2.        , 2.33333333,\n",
       "       2.66666667, 3.        , 3.33333333, 3.66666667, 4.        ])"
      ]
     },
     "execution_count": 21,
     "metadata": {},
     "output_type": "execute_result"
    }
   ],
   "source": [
    "LinspaceArr"
   ]
  },
  {
   "cell_type": "markdown",
   "id": "cba2108c",
   "metadata": {},
   "source": [
    "linspace(a,b,m) returns equally linearly spaced m numbers from range a to b "
   ]
  },
  {
   "cell_type": "code",
   "execution_count": 22,
   "id": "5360a32b",
   "metadata": {},
   "outputs": [],
   "source": [
    "babuarr = np.linspace(1,1000,6)"
   ]
  },
  {
   "cell_type": "code",
   "execution_count": 23,
   "id": "684dbd64",
   "metadata": {},
   "outputs": [
    {
     "data": {
      "text/plain": [
       "array([   1. ,  200.8,  400.6,  600.4,  800.2, 1000. ])"
      ]
     },
     "execution_count": 23,
     "metadata": {},
     "output_type": "execute_result"
    }
   ],
   "source": [
    "babuarr"
   ]
  },
  {
   "cell_type": "code",
   "execution_count": 24,
   "id": "f79e2057",
   "metadata": {},
   "outputs": [
    {
     "data": {
      "text/plain": [
       "dtype('float64')"
      ]
     },
     "execution_count": 24,
     "metadata": {},
     "output_type": "execute_result"
    }
   ],
   "source": [
    "babuarr.dtype"
   ]
  },
  {
   "cell_type": "code",
   "execution_count": 25,
   "id": "2a47ad1e",
   "metadata": {},
   "outputs": [
    {
     "data": {
      "text/plain": [
       "(6,)"
      ]
     },
     "execution_count": 25,
     "metadata": {},
     "output_type": "execute_result"
    }
   ],
   "source": [
    "babuarr.shape"
   ]
  },
  {
   "cell_type": "code",
   "execution_count": 26,
   "id": "0d5c6fd6",
   "metadata": {},
   "outputs": [
    {
     "data": {
      "text/plain": [
       "6"
      ]
     },
     "execution_count": 26,
     "metadata": {},
     "output_type": "execute_result"
    }
   ],
   "source": [
    "babuarr.size"
   ]
  },
  {
   "cell_type": "markdown",
   "id": "13fc13e7",
   "metadata": {},
   "source": [
    "**empty**"
   ]
  },
  {
   "cell_type": "code",
   "execution_count": 27,
   "id": "30ee4e6a",
   "metadata": {},
   "outputs": [
    {
     "ename": "TypeError",
     "evalue": "Cannot interpret '5' as a data type",
     "output_type": "error",
     "traceback": [
      "\u001b[1;31m---------------------------------------------------------------------------\u001b[0m",
      "\u001b[1;31mTypeError\u001b[0m                                 Traceback (most recent call last)",
      "Cell \u001b[1;32mIn[27], line 1\u001b[0m\n\u001b[1;32m----> 1\u001b[0m EmptyArr \u001b[38;5;241m=\u001b[39m \u001b[43mnp\u001b[49m\u001b[38;5;241;43m.\u001b[39;49m\u001b[43mempty\u001b[49m\u001b[43m(\u001b[49m\u001b[38;5;241;43m3\u001b[39;49m\u001b[43m,\u001b[49m\u001b[38;5;241;43m5\u001b[39;49m\u001b[43m)\u001b[49m\n",
      "\u001b[1;31mTypeError\u001b[0m: Cannot interpret '5' as a data type"
     ]
    }
   ],
   "source": [
    "EmptyArr = np.empty(3,5)"
   ]
  },
  {
   "cell_type": "code",
   "execution_count": 28,
   "id": "6582b90a",
   "metadata": {},
   "outputs": [],
   "source": [
    "EmptyArr = np.empty((3,5))"
   ]
  },
  {
   "cell_type": "code",
   "execution_count": 29,
   "id": "e0cfeb9e",
   "metadata": {},
   "outputs": [
    {
     "data": {
      "text/plain": [
       "array([[0., 0., 0., 0., 0.],\n",
       "       [0., 0., 0., 0., 0.],\n",
       "       [0., 0., 0., 0., 0.]])"
      ]
     },
     "execution_count": 29,
     "metadata": {},
     "output_type": "execute_result"
    }
   ],
   "source": [
    "EmptyArr"
   ]
  },
  {
   "cell_type": "code",
   "execution_count": 30,
   "id": "3cef6886",
   "metadata": {},
   "outputs": [],
   "source": [
    "EmptyArr = np.empty((4,9))"
   ]
  },
  {
   "cell_type": "code",
   "execution_count": 31,
   "id": "523677f0",
   "metadata": {},
   "outputs": [
    {
     "data": {
      "text/plain": [
       "array([[1.08142701e-311, 1.08142456e-311, 1.37961641e-306,\n",
       "        8.34424342e-308, 3.11525958e-307, 1.69118108e-306,\n",
       "        8.06632139e-308, 1.20160711e-306, 1.69119330e-306],\n",
       "       [8.01095173e-307, 2.22522597e-306, 9.34611148e-307,\n",
       "        1.60220393e-306, 1.42417221e-306, 1.95820216e-306,\n",
       "        1.42417629e-306, 1.95820216e-306, 1.86919513e-306],\n",
       "       [9.34604358e-307, 8.90111708e-307, 6.89806849e-307,\n",
       "        8.45602762e-307, 9.34608432e-307, 6.89813978e-307,\n",
       "        1.24610723e-306, 1.60219035e-306, 8.90111708e-307],\n",
       "       [6.89806849e-307, 8.45602762e-307, 9.34608432e-307,\n",
       "        6.89813978e-307, 1.02360392e-306, 1.42410974e-306,\n",
       "        1.73157382e-260, 1.47816155e-309, 2.56898228e-312]])"
      ]
     },
     "execution_count": 31,
     "metadata": {},
     "output_type": "execute_result"
    }
   ],
   "source": [
    "EmptyArr "
   ]
  },
  {
   "cell_type": "markdown",
   "id": "25189d1d",
   "metadata": {},
   "source": [
    "np.empty((m,n)) gives an empty array of m x n  elements filled with random elements.......... you can assign any value to it"
   ]
  },
  {
   "cell_type": "markdown",
   "id": "3ad3e5a1",
   "metadata": {},
   "source": [
    "**empty_like**"
   ]
  },
  {
   "cell_type": "code",
   "execution_count": 32,
   "id": "d23a9ad2",
   "metadata": {},
   "outputs": [],
   "source": [
    "ArrEmpty_Like = np.empty_like(LinspaceArr)"
   ]
  },
  {
   "cell_type": "code",
   "execution_count": 33,
   "id": "d11f9239",
   "metadata": {},
   "outputs": [
    {
     "data": {
      "text/plain": [
       "array([1.        , 1.33333333, 1.66666667, 2.        , 2.33333333,\n",
       "       2.66666667, 3.        , 3.33333333, 3.66666667, 4.        ])"
      ]
     },
     "execution_count": 33,
     "metadata": {},
     "output_type": "execute_result"
    }
   ],
   "source": [
    "ArrEmpty_Like"
   ]
  },
  {
   "cell_type": "markdown",
   "id": "574e9bcb",
   "metadata": {},
   "source": [
    "if you had made an old array then np.empty_like copies its size and elements which can be initialized later with any other ones..... this is done for space efficiency"
   ]
  },
  {
   "cell_type": "markdown",
   "id": "f7aa5b07",
   "metadata": {},
   "source": [
    "**identity**"
   ]
  },
  {
   "cell_type": "code",
   "execution_count": 34,
   "id": "7e71cc46",
   "metadata": {},
   "outputs": [],
   "source": [
    "Identity_Matrix = np.identity(50)"
   ]
  },
  {
   "cell_type": "code",
   "execution_count": 35,
   "id": "d600c0f0",
   "metadata": {},
   "outputs": [
    {
     "data": {
      "text/plain": [
       "array([[1., 0., 0., ..., 0., 0., 0.],\n",
       "       [0., 1., 0., ..., 0., 0., 0.],\n",
       "       [0., 0., 1., ..., 0., 0., 0.],\n",
       "       ...,\n",
       "       [0., 0., 0., ..., 1., 0., 0.],\n",
       "       [0., 0., 0., ..., 0., 1., 0.],\n",
       "       [0., 0., 0., ..., 0., 0., 1.]])"
      ]
     },
     "execution_count": 35,
     "metadata": {},
     "output_type": "execute_result"
    }
   ],
   "source": [
    "Identity_Matrix"
   ]
  },
  {
   "cell_type": "code",
   "execution_count": 36,
   "id": "5c14c50f",
   "metadata": {},
   "outputs": [
    {
     "data": {
      "text/plain": [
       "(50, 50)"
      ]
     },
     "execution_count": 36,
     "metadata": {},
     "output_type": "execute_result"
    }
   ],
   "source": [
    "Identity_Matrix.shape"
   ]
  },
  {
   "cell_type": "markdown",
   "id": "937498ec",
   "metadata": {},
   "source": [
    "np.identity(n) creates an identity matrix of n x n elements (Identity matrix is somthing in which only diagonal elements are ones and rest are zeroes) "
   ]
  },
  {
   "cell_type": "markdown",
   "id": "792bb91f",
   "metadata": {},
   "source": [
    "**reshape**"
   ]
  },
  {
   "cell_type": "code",
   "execution_count": 37,
   "id": "2ee74925",
   "metadata": {},
   "outputs": [],
   "source": [
    "bahin = np.arange(100)"
   ]
  },
  {
   "cell_type": "code",
   "execution_count": 38,
   "id": "b83bd624",
   "metadata": {},
   "outputs": [
    {
     "data": {
      "text/plain": [
       "array([ 0,  1,  2,  3,  4,  5,  6,  7,  8,  9, 10, 11, 12, 13, 14, 15, 16,\n",
       "       17, 18, 19, 20, 21, 22, 23, 24, 25, 26, 27, 28, 29, 30, 31, 32, 33,\n",
       "       34, 35, 36, 37, 38, 39, 40, 41, 42, 43, 44, 45, 46, 47, 48, 49, 50,\n",
       "       51, 52, 53, 54, 55, 56, 57, 58, 59, 60, 61, 62, 63, 64, 65, 66, 67,\n",
       "       68, 69, 70, 71, 72, 73, 74, 75, 76, 77, 78, 79, 80, 81, 82, 83, 84,\n",
       "       85, 86, 87, 88, 89, 90, 91, 92, 93, 94, 95, 96, 97, 98, 99])"
      ]
     },
     "execution_count": 38,
     "metadata": {},
     "output_type": "execute_result"
    }
   ],
   "source": [
    "bahin"
   ]
  },
  {
   "cell_type": "code",
   "execution_count": 39,
   "id": "9e062a89",
   "metadata": {},
   "outputs": [
    {
     "data": {
      "text/plain": [
       "array([[ 0,  1,  2,  3,  4,  5,  6,  7,  8,  9, 10, 11, 12, 13, 14, 15,\n",
       "        16, 17, 18, 19, 20, 21, 22, 23, 24],\n",
       "       [25, 26, 27, 28, 29, 30, 31, 32, 33, 34, 35, 36, 37, 38, 39, 40,\n",
       "        41, 42, 43, 44, 45, 46, 47, 48, 49],\n",
       "       [50, 51, 52, 53, 54, 55, 56, 57, 58, 59, 60, 61, 62, 63, 64, 65,\n",
       "        66, 67, 68, 69, 70, 71, 72, 73, 74],\n",
       "       [75, 76, 77, 78, 79, 80, 81, 82, 83, 84, 85, 86, 87, 88, 89, 90,\n",
       "        91, 92, 93, 94, 95, 96, 97, 98, 99]])"
      ]
     },
     "execution_count": 39,
     "metadata": {},
     "output_type": "execute_result"
    }
   ],
   "source": [
    "bahin.reshape((4, 25))"
   ]
  },
  {
   "cell_type": "code",
   "execution_count": 40,
   "id": "f898a721",
   "metadata": {},
   "outputs": [
    {
     "data": {
      "text/plain": [
       "array([[ 0,  1,  2,  3,  4,  5,  6,  7,  8,  9, 10, 11, 12, 13, 14, 15,\n",
       "        16, 17, 18, 19, 20, 21, 22, 23, 24, 25, 26, 27, 28, 29, 30, 31,\n",
       "        32, 33, 34, 35, 36, 37, 38, 39, 40, 41, 42, 43, 44, 45, 46, 47,\n",
       "        48, 49],\n",
       "       [50, 51, 52, 53, 54, 55, 56, 57, 58, 59, 60, 61, 62, 63, 64, 65,\n",
       "        66, 67, 68, 69, 70, 71, 72, 73, 74, 75, 76, 77, 78, 79, 80, 81,\n",
       "        82, 83, 84, 85, 86, 87, 88, 89, 90, 91, 92, 93, 94, 95, 96, 97,\n",
       "        98, 99]])"
      ]
     },
     "execution_count": 40,
     "metadata": {},
     "output_type": "execute_result"
    }
   ],
   "source": [
    "bahin.reshape((2,50))"
   ]
  },
  {
   "cell_type": "code",
   "execution_count": 41,
   "id": "91911b59",
   "metadata": {},
   "outputs": [
    {
     "data": {
      "text/plain": [
       "array([[ 0,  1,  2,  3,  4,  5,  6,  7,  8,  9, 10, 11, 12, 13, 14, 15,\n",
       "        16, 17, 18, 19],\n",
       "       [20, 21, 22, 23, 24, 25, 26, 27, 28, 29, 30, 31, 32, 33, 34, 35,\n",
       "        36, 37, 38, 39],\n",
       "       [40, 41, 42, 43, 44, 45, 46, 47, 48, 49, 50, 51, 52, 53, 54, 55,\n",
       "        56, 57, 58, 59],\n",
       "       [60, 61, 62, 63, 64, 65, 66, 67, 68, 69, 70, 71, 72, 73, 74, 75,\n",
       "        76, 77, 78, 79],\n",
       "       [80, 81, 82, 83, 84, 85, 86, 87, 88, 89, 90, 91, 92, 93, 94, 95,\n",
       "        96, 97, 98, 99]])"
      ]
     },
     "execution_count": 41,
     "metadata": {},
     "output_type": "execute_result"
    }
   ],
   "source": [
    "bahin.reshape((5,20))"
   ]
  },
  {
   "cell_type": "code",
   "execution_count": 42,
   "id": "a8aee3e5",
   "metadata": {},
   "outputs": [
    {
     "ename": "ValueError",
     "evalue": "cannot reshape array of size 100 into shape (7,14)",
     "output_type": "error",
     "traceback": [
      "\u001b[1;31m---------------------------------------------------------------------------\u001b[0m",
      "\u001b[1;31mValueError\u001b[0m                                Traceback (most recent call last)",
      "Cell \u001b[1;32mIn[42], line 1\u001b[0m\n\u001b[1;32m----> 1\u001b[0m \u001b[43mbahin\u001b[49m\u001b[38;5;241;43m.\u001b[39;49m\u001b[43mreshape\u001b[49m\u001b[43m(\u001b[49m\u001b[43m(\u001b[49m\u001b[38;5;241;43m7\u001b[39;49m\u001b[43m,\u001b[49m\u001b[38;5;241;43m14\u001b[39;49m\u001b[43m)\u001b[49m\u001b[43m)\u001b[49m\n",
      "\u001b[1;31mValueError\u001b[0m: cannot reshape array of size 100 into shape (7,14)"
     ]
    }
   ],
   "source": [
    "bahin.reshape((7,14))"
   ]
  },
  {
   "cell_type": "markdown",
   "id": "48ffe3ea",
   "metadata": {},
   "source": [
    "arr.reshape((m,n)) resizes the given arr array into m rows and n columns...........remember that m x n should be equal to the number of elements in array..."
   ]
  },
  {
   "cell_type": "code",
   "execution_count": 43,
   "id": "abd8f74b",
   "metadata": {},
   "outputs": [],
   "source": [
    "bahin = bahin.reshape((4,25))"
   ]
  },
  {
   "cell_type": "code",
   "execution_count": 44,
   "id": "cd807dab",
   "metadata": {},
   "outputs": [
    {
     "data": {
      "text/plain": [
       "array([[ 0,  1,  2,  3,  4,  5,  6,  7,  8,  9, 10, 11, 12, 13, 14, 15,\n",
       "        16, 17, 18, 19, 20, 21, 22, 23, 24],\n",
       "       [25, 26, 27, 28, 29, 30, 31, 32, 33, 34, 35, 36, 37, 38, 39, 40,\n",
       "        41, 42, 43, 44, 45, 46, 47, 48, 49],\n",
       "       [50, 51, 52, 53, 54, 55, 56, 57, 58, 59, 60, 61, 62, 63, 64, 65,\n",
       "        66, 67, 68, 69, 70, 71, 72, 73, 74],\n",
       "       [75, 76, 77, 78, 79, 80, 81, 82, 83, 84, 85, 86, 87, 88, 89, 90,\n",
       "        91, 92, 93, 94, 95, 96, 97, 98, 99]])"
      ]
     },
     "execution_count": 44,
     "metadata": {},
     "output_type": "execute_result"
    }
   ],
   "source": [
    "bahin"
   ]
  },
  {
   "cell_type": "code",
   "execution_count": 45,
   "id": "da2ca657",
   "metadata": {},
   "outputs": [
    {
     "data": {
      "text/plain": [
       "(4, 25)"
      ]
     },
     "execution_count": 45,
     "metadata": {},
     "output_type": "execute_result"
    }
   ],
   "source": [
    "bahin.shape"
   ]
  },
  {
   "cell_type": "markdown",
   "id": "feec110e",
   "metadata": {},
   "source": [
    "**ravel**"
   ]
  },
  {
   "cell_type": "code",
   "execution_count": 46,
   "id": "ea18e80b",
   "metadata": {},
   "outputs": [
    {
     "data": {
      "text/plain": [
       "array([ 0,  1,  2,  3,  4,  5,  6,  7,  8,  9, 10, 11, 12, 13, 14, 15, 16,\n",
       "       17, 18, 19, 20, 21, 22, 23, 24, 25, 26, 27, 28, 29, 30, 31, 32, 33,\n",
       "       34, 35, 36, 37, 38, 39, 40, 41, 42, 43, 44, 45, 46, 47, 48, 49, 50,\n",
       "       51, 52, 53, 54, 55, 56, 57, 58, 59, 60, 61, 62, 63, 64, 65, 66, 67,\n",
       "       68, 69, 70, 71, 72, 73, 74, 75, 76, 77, 78, 79, 80, 81, 82, 83, 84,\n",
       "       85, 86, 87, 88, 89, 90, 91, 92, 93, 94, 95, 96, 97, 98, 99])"
      ]
     },
     "execution_count": 46,
     "metadata": {},
     "output_type": "execute_result"
    }
   ],
   "source": [
    "bahin.ravel()"
   ]
  },
  {
   "cell_type": "markdown",
   "id": "28ad340f",
   "metadata": {},
   "source": [
    "arr.ravel() makes it turn into its own from - if its 1d array intially then it converts it into 1d array"
   ]
  },
  {
   "cell_type": "code",
   "execution_count": 47,
   "id": "ae1ab67a",
   "metadata": {},
   "outputs": [],
   "source": [
    "bahin = bahin.ravel()"
   ]
  },
  {
   "cell_type": "code",
   "execution_count": 48,
   "id": "fac3176e",
   "metadata": {},
   "outputs": [
    {
     "data": {
      "text/plain": [
       "array([ 0,  1,  2,  3,  4,  5,  6,  7,  8,  9, 10, 11, 12, 13, 14, 15, 16,\n",
       "       17, 18, 19, 20, 21, 22, 23, 24, 25, 26, 27, 28, 29, 30, 31, 32, 33,\n",
       "       34, 35, 36, 37, 38, 39, 40, 41, 42, 43, 44, 45, 46, 47, 48, 49, 50,\n",
       "       51, 52, 53, 54, 55, 56, 57, 58, 59, 60, 61, 62, 63, 64, 65, 66, 67,\n",
       "       68, 69, 70, 71, 72, 73, 74, 75, 76, 77, 78, 79, 80, 81, 82, 83, 84,\n",
       "       85, 86, 87, 88, 89, 90, 91, 92, 93, 94, 95, 96, 97, 98, 99])"
      ]
     },
     "execution_count": 48,
     "metadata": {},
     "output_type": "execute_result"
    }
   ],
   "source": [
    "bahin"
   ]
  },
  {
   "cell_type": "code",
   "execution_count": 49,
   "id": "254ff5c8",
   "metadata": {},
   "outputs": [
    {
     "data": {
      "text/plain": [
       "(100,)"
      ]
     },
     "execution_count": 49,
     "metadata": {},
     "output_type": "execute_result"
    }
   ],
   "source": [
    "bahin.shape"
   ]
  },
  {
   "cell_type": "code",
   "execution_count": null,
   "id": "bd0ee9f4",
   "metadata": {},
   "outputs": [],
   "source": []
  }
 ],
 "metadata": {
  "kernelspec": {
   "display_name": "Python 3 (ipykernel)",
   "language": "python",
   "name": "python3"
  },
  "language_info": {
   "codemirror_mode": {
    "name": "ipython",
    "version": 3
   },
   "file_extension": ".py",
   "mimetype": "text/x-python",
   "name": "python",
   "nbconvert_exporter": "python",
   "pygments_lexer": "ipython3",
   "version": "3.10.0"
  }
 },
 "nbformat": 4,
 "nbformat_minor": 5
}
