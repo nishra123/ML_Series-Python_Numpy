{
 "cells": [
  {
   "cell_type": "code",
   "execution_count": 1,
   "id": "a5b35b78",
   "metadata": {},
   "outputs": [],
   "source": [
    "import numpy as np"
   ]
  },
  {
   "cell_type": "code",
   "execution_count": 2,
   "id": "8bcf8159",
   "metadata": {},
   "outputs": [],
   "source": [
    "x = [[1,2,3], [4,5,6], [7,8,9]]"
   ]
  },
  {
   "cell_type": "code",
   "execution_count": 3,
   "id": "b8cc1491",
   "metadata": {},
   "outputs": [],
   "source": [
    "arr= np.array(x)"
   ]
  },
  {
   "cell_type": "code",
   "execution_count": 4,
   "id": "7404605c",
   "metadata": {},
   "outputs": [
    {
     "data": {
      "text/plain": [
       "array([[1, 2, 3],\n",
       "       [4, 5, 6],\n",
       "       [7, 8, 9]])"
      ]
     },
     "execution_count": 4,
     "metadata": {},
     "output_type": "execute_result"
    }
   ],
   "source": [
    "arr"
   ]
  },
  {
   "cell_type": "code",
   "execution_count": 5,
   "id": "dc67a836",
   "metadata": {},
   "outputs": [
    {
     "data": {
      "text/plain": [
       "array([12, 15, 18])"
      ]
     },
     "execution_count": 5,
     "metadata": {},
     "output_type": "execute_result"
    }
   ],
   "source": [
    "arr.sum(axis=0)"
   ]
  },
  {
   "cell_type": "markdown",
   "id": "08aa64b0",
   "metadata": {},
   "source": [
    "# here, arr.sum(axis=0) calculates sum of all elements along the 0th axis"
   ]
  },
  {
   "cell_type": "markdown",
   "id": "70bbb13a",
   "metadata": {},
   "source": [
    "**0th axis is pointing columns vertically downwards, so sum of elements along axis 0 will be:\n",
    "first: 1+4+7 = 12\n",
    "second: 2+5+6 = 15\n",
    "third: 3+6+9 = 18**"
   ]
  },
  {
   "cell_type": "code",
   "execution_count": 6,
   "id": "28e854e1",
   "metadata": {},
   "outputs": [
    {
     "data": {
      "text/plain": [
       "array([ 6, 15, 24])"
      ]
     },
     "execution_count": 6,
     "metadata": {},
     "output_type": "execute_result"
    }
   ],
   "source": [
    "arr.sum(axis=1)"
   ]
  },
  {
   "cell_type": "markdown",
   "id": "d4e88aff",
   "metadata": {},
   "source": [
    "# here, arr.sum(axis=1) calculates sum of all elements along the 1th axis"
   ]
  },
  {
   "cell_type": "markdown",
   "id": "500be454",
   "metadata": {},
   "source": [
    "**1th axis is pointing rows horizontally from left to right, so sum of elements along axis 1 will be:\n",
    "first: 1+2+3 = 6\n",
    "second: 4+5+6 = 15\n",
    "third: 7+8+9 = 24**"
   ]
  },
  {
   "cell_type": "code",
   "execution_count": null,
   "id": "97d1f5e8",
   "metadata": {},
   "outputs": [],
   "source": []
  }
 ],
 "metadata": {
  "kernelspec": {
   "display_name": "Python 3 (ipykernel)",
   "language": "python",
   "name": "python3"
  },
  "language_info": {
   "codemirror_mode": {
    "name": "ipython",
    "version": 3
   },
   "file_extension": ".py",
   "mimetype": "text/x-python",
   "name": "python",
   "nbconvert_exporter": "python",
   "pygments_lexer": "ipython3",
   "version": "3.10.0"
  }
 },
 "nbformat": 4,
 "nbformat_minor": 5
}
