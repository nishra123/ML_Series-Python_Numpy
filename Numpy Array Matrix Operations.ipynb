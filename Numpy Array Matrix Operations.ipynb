{
 "cells": [
  {
   "cell_type": "code",
   "execution_count": 1,
   "id": "3e3a8341",
   "metadata": {},
   "outputs": [],
   "source": [
    "import numpy as np"
   ]
  },
  {
   "cell_type": "code",
   "execution_count": 2,
   "id": "953b7b59",
   "metadata": {},
   "outputs": [],
   "source": [
    "arr1 = np.array([[1,2,3], [4,5,6], [7,8,9]])"
   ]
  },
  {
   "cell_type": "code",
   "execution_count": 3,
   "id": "e58fd65f",
   "metadata": {},
   "outputs": [
    {
     "data": {
      "text/plain": [
       "array([[1, 2, 3],\n",
       "       [4, 5, 6],\n",
       "       [7, 8, 9]])"
      ]
     },
     "execution_count": 3,
     "metadata": {},
     "output_type": "execute_result"
    }
   ],
   "source": [
    "arr1"
   ]
  },
  {
   "cell_type": "code",
   "execution_count": 4,
   "id": "1e370355",
   "metadata": {},
   "outputs": [],
   "source": [
    "arr2 = arr1.T"
   ]
  },
  {
   "cell_type": "code",
   "execution_count": 5,
   "id": "bd76b683",
   "metadata": {},
   "outputs": [
    {
     "data": {
      "text/plain": [
       "array([[1, 4, 7],\n",
       "       [2, 5, 8],\n",
       "       [3, 6, 9]])"
      ]
     },
     "execution_count": 5,
     "metadata": {},
     "output_type": "execute_result"
    }
   ],
   "source": [
    "arr2"
   ]
  },
  {
   "cell_type": "markdown",
   "id": "a22a068f",
   "metadata": {},
   "source": [
    "# element wise addition"
   ]
  },
  {
   "cell_type": "code",
   "execution_count": 6,
   "id": "e4a0f9a7",
   "metadata": {},
   "outputs": [
    {
     "data": {
      "text/plain": [
       "array([[ 2,  6, 10],\n",
       "       [ 6, 10, 14],\n",
       "       [10, 14, 18]])"
      ]
     },
     "execution_count": 6,
     "metadata": {},
     "output_type": "execute_result"
    }
   ],
   "source": [
    "arr1 + arr2"
   ]
  },
  {
   "cell_type": "markdown",
   "id": "e436a1c4",
   "metadata": {},
   "source": [
    "# element wise multiplication"
   ]
  },
  {
   "cell_type": "code",
   "execution_count": 7,
   "id": "bab1c954",
   "metadata": {},
   "outputs": [
    {
     "data": {
      "text/plain": [
       "array([[ 1,  8, 21],\n",
       "       [ 8, 25, 48],\n",
       "       [21, 48, 81]])"
      ]
     },
     "execution_count": 7,
     "metadata": {},
     "output_type": "execute_result"
    }
   ],
   "source": [
    "arr1 * arr2"
   ]
  },
  {
   "cell_type": "markdown",
   "id": "613a6907",
   "metadata": {},
   "source": [
    "whereas in list, if we do + operation means the lists get merged like:"
   ]
  },
  {
   "cell_type": "code",
   "execution_count": 8,
   "id": "cc36d66f",
   "metadata": {},
   "outputs": [
    {
     "data": {
      "text/plain": [
       "[324, 452, 13, 62]"
      ]
     },
     "execution_count": 8,
     "metadata": {},
     "output_type": "execute_result"
    }
   ],
   "source": [
    "[324, 452] + [13, 62]"
   ]
  },
  {
   "cell_type": "markdown",
   "id": "93c29f8c",
   "metadata": {},
   "source": [
    "# element was square root"
   ]
  },
  {
   "cell_type": "code",
   "execution_count": 9,
   "id": "50ca7432",
   "metadata": {},
   "outputs": [
    {
     "data": {
      "text/plain": [
       "array([[1.        , 1.41421356, 1.73205081],\n",
       "       [2.        , 2.23606798, 2.44948974],\n",
       "       [2.64575131, 2.82842712, 3.        ]])"
      ]
     },
     "execution_count": 9,
     "metadata": {},
     "output_type": "execute_result"
    }
   ],
   "source": [
    "np.sqrt(arr1)"
   ]
  },
  {
   "cell_type": "code",
   "execution_count": 10,
   "id": "8475c551",
   "metadata": {},
   "outputs": [
    {
     "data": {
      "text/plain": [
       "array([[1.        , 2.        , 2.64575131],\n",
       "       [1.41421356, 2.23606798, 2.82842712],\n",
       "       [1.73205081, 2.44948974, 3.        ]])"
      ]
     },
     "execution_count": 10,
     "metadata": {},
     "output_type": "execute_result"
    }
   ],
   "source": [
    "np.sqrt(arr2)"
   ]
  },
  {
   "cell_type": "code",
   "execution_count": 12,
   "id": "2f2b2f70",
   "metadata": {},
   "outputs": [
    {
     "data": {
      "text/plain": [
       "array([[1.41421356, 2.44948974, 3.16227766],\n",
       "       [2.44948974, 3.16227766, 3.74165739],\n",
       "       [3.16227766, 3.74165739, 4.24264069]])"
      ]
     },
     "execution_count": 12,
     "metadata": {},
     "output_type": "execute_result"
    }
   ],
   "source": [
    "np.sqrt(arr1+arr2)"
   ]
  },
  {
   "cell_type": "code",
   "execution_count": 11,
   "id": "3e1d63a2",
   "metadata": {},
   "outputs": [
    {
     "data": {
      "text/plain": [
       "array([[1.        , 2.82842712, 4.58257569],\n",
       "       [2.82842712, 5.        , 6.92820323],\n",
       "       [4.58257569, 6.92820323, 9.        ]])"
      ]
     },
     "execution_count": 11,
     "metadata": {},
     "output_type": "execute_result"
    }
   ],
   "source": [
    "np.sqrt(arr1*arr2)"
   ]
  },
  {
   "cell_type": "code",
   "execution_count": 13,
   "id": "f1d2e221",
   "metadata": {},
   "outputs": [
    {
     "data": {
      "text/plain": [
       "45"
      ]
     },
     "execution_count": 13,
     "metadata": {},
     "output_type": "execute_result"
    }
   ],
   "source": [
    "arr1.sum()"
   ]
  },
  {
   "cell_type": "code",
   "execution_count": 14,
   "id": "91ce9781",
   "metadata": {},
   "outputs": [
    {
     "data": {
      "text/plain": [
       "45"
      ]
     },
     "execution_count": 14,
     "metadata": {},
     "output_type": "execute_result"
    }
   ],
   "source": [
    "arr2.sum()"
   ]
  },
  {
   "cell_type": "code",
   "execution_count": 15,
   "id": "a7009f11",
   "metadata": {},
   "outputs": [
    {
     "data": {
      "text/plain": [
       "90"
      ]
     },
     "execution_count": 15,
     "metadata": {},
     "output_type": "execute_result"
    }
   ],
   "source": [
    "(arr1+arr2).sum()"
   ]
  },
  {
   "cell_type": "code",
   "execution_count": 16,
   "id": "9a31f0c0",
   "metadata": {},
   "outputs": [
    {
     "data": {
      "text/plain": [
       "261"
      ]
     },
     "execution_count": 16,
     "metadata": {},
     "output_type": "execute_result"
    }
   ],
   "source": [
    "(arr1*arr2).sum()"
   ]
  },
  {
   "cell_type": "markdown",
   "id": "afc37107",
   "metadata": {},
   "source": [
    "# searching elements with condition"
   ]
  },
  {
   "cell_type": "markdown",
   "id": "9e49d060",
   "metadata": {},
   "source": [
    "**where**\n"
   ]
  },
  {
   "cell_type": "code",
   "execution_count": 17,
   "id": "31cdfa49",
   "metadata": {},
   "outputs": [
    {
     "data": {
      "text/plain": [
       "array([[1, 2, 3],\n",
       "       [4, 5, 6],\n",
       "       [7, 8, 9]])"
      ]
     },
     "execution_count": 17,
     "metadata": {},
     "output_type": "execute_result"
    }
   ],
   "source": [
    "arr1"
   ]
  },
  {
   "cell_type": "code",
   "execution_count": 19,
   "id": "65aeec43",
   "metadata": {},
   "outputs": [
    {
     "data": {
      "text/plain": [
       "(array([1, 1, 1, 2, 2, 2], dtype=int64),\n",
       " array([0, 1, 2, 0, 1, 2], dtype=int64))"
      ]
     },
     "execution_count": 19,
     "metadata": {},
     "output_type": "execute_result"
    }
   ],
   "source": [
    "np.where(arr1>3)"
   ]
  },
  {
   "cell_type": "code",
   "execution_count": 20,
   "id": "04d04a6a",
   "metadata": {},
   "outputs": [
    {
     "data": {
      "text/plain": [
       "tuple"
      ]
     },
     "execution_count": 20,
     "metadata": {},
     "output_type": "execute_result"
    }
   ],
   "source": [
    "type(np.where(arr1>3))"
   ]
  },
  {
   "cell_type": "markdown",
   "id": "cb9528a0",
   "metadata": {},
   "source": [
    "np.where(condition) returns a tuple of element indices which satisfy the given condition.."
   ]
  },
  {
   "cell_type": "markdown",
   "id": "fc148817",
   "metadata": {},
   "source": [
    "like here array [1,1,1,2,2,2] means [1,1] = element 4>3\n",
    "[1,2] = element 5>3 and so on"
   ]
  },
  {
   "cell_type": "code",
   "execution_count": 21,
   "id": "68f07a7a",
   "metadata": {},
   "outputs": [
    {
     "data": {
      "text/plain": [
       "(array([1, 2, 2, 2], dtype=int64), array([2, 0, 1, 2], dtype=int64))"
      ]
     },
     "execution_count": 21,
     "metadata": {},
     "output_type": "execute_result"
    }
   ],
   "source": [
    "np.where(arr1>5)"
   ]
  },
  {
   "cell_type": "markdown",
   "id": "04034ba9",
   "metadata": {},
   "source": [
    "**count_nonzero()**"
   ]
  },
  {
   "cell_type": "code",
   "execution_count": 23,
   "id": "d8701d60",
   "metadata": {},
   "outputs": [
    {
     "data": {
      "text/plain": [
       "9"
      ]
     },
     "execution_count": 23,
     "metadata": {},
     "output_type": "execute_result"
    }
   ],
   "source": [
    "np.count_nonzero(arr1)"
   ]
  },
  {
   "cell_type": "markdown",
   "id": "f59bdd45",
   "metadata": {},
   "source": [
    "returns number of elements that are non zeros"
   ]
  },
  {
   "cell_type": "code",
   "execution_count": 25,
   "id": "79d64c1b",
   "metadata": {},
   "outputs": [
    {
     "data": {
      "text/plain": [
       "(array([0, 0, 0, 1, 1, 1, 2, 2, 2], dtype=int64),\n",
       " array([0, 1, 2, 0, 1, 2, 0, 1, 2], dtype=int64))"
      ]
     },
     "execution_count": 25,
     "metadata": {},
     "output_type": "execute_result"
    }
   ],
   "source": [
    "np.nonzero(arr1)"
   ]
  },
  {
   "cell_type": "markdown",
   "id": "53e514d0",
   "metadata": {},
   "source": [
    "returns indices where elements are non zero for each axis"
   ]
  },
  {
   "cell_type": "code",
   "execution_count": 27,
   "id": "3c7474b3",
   "metadata": {},
   "outputs": [],
   "source": [
    "arr1[0,2]=0"
   ]
  },
  {
   "cell_type": "code",
   "execution_count": 28,
   "id": "ce7da53b",
   "metadata": {},
   "outputs": [
    {
     "data": {
      "text/plain": [
       "(array([0, 0, 1, 1, 1, 2, 2, 2], dtype=int64),\n",
       " array([0, 1, 0, 1, 2, 0, 1, 2], dtype=int64))"
      ]
     },
     "execution_count": 28,
     "metadata": {},
     "output_type": "execute_result"
    }
   ],
   "source": [
    "np.nonzero(arr1)"
   ]
  },
  {
   "cell_type": "markdown",
   "id": "c64d7a49",
   "metadata": {},
   "source": [
    "# Python array and Numpy array size comparison"
   ]
  },
  {
   "cell_type": "code",
   "execution_count": 29,
   "id": "bfb1f9fa",
   "metadata": {},
   "outputs": [],
   "source": [
    "import sys"
   ]
  },
  {
   "cell_type": "code",
   "execution_count": 31,
   "id": "202b9156",
   "metadata": {},
   "outputs": [],
   "source": [
    "python_arr = [3,6,2,8,21]"
   ]
  },
  {
   "cell_type": "code",
   "execution_count": 32,
   "id": "17e34e58",
   "metadata": {},
   "outputs": [],
   "source": [
    "numpy_arr = np.array(python_arr)"
   ]
  },
  {
   "cell_type": "code",
   "execution_count": 33,
   "id": "7e49dbc0",
   "metadata": {},
   "outputs": [
    {
     "data": {
      "text/plain": [
       "140"
      ]
     },
     "execution_count": 33,
     "metadata": {},
     "output_type": "execute_result"
    }
   ],
   "source": [
    "sys.getsizeof(1) * len(python_arr)"
   ]
  },
  {
   "cell_type": "code",
   "execution_count": 34,
   "id": "46c15f39",
   "metadata": {},
   "outputs": [
    {
     "data": {
      "text/plain": [
       "20"
      ]
     },
     "execution_count": 34,
     "metadata": {},
     "output_type": "execute_result"
    }
   ],
   "source": [
    "numpy_arr.itemsize * numpy_arr.size"
   ]
  },
  {
   "cell_type": "markdown",
   "id": "cbed52ed",
   "metadata": {},
   "source": [
    "**whoa!!!! one element of python array takes 140 bytes of space whereas the same numpy array element takes only 20 bytes of space!!**"
   ]
  },
  {
   "cell_type": "code",
   "execution_count": null,
   "id": "ceef8593",
   "metadata": {},
   "outputs": [],
   "source": []
  }
 ],
 "metadata": {
  "kernelspec": {
   "display_name": "Python 3 (ipykernel)",
   "language": "python",
   "name": "python3"
  },
  "language_info": {
   "codemirror_mode": {
    "name": "ipython",
    "version": 3
   },
   "file_extension": ".py",
   "mimetype": "text/x-python",
   "name": "python",
   "nbconvert_exporter": "python",
   "pygments_lexer": "ipython3",
   "version": "3.10.0"
  }
 },
 "nbformat": 4,
 "nbformat_minor": 5
}
