{
 "cells": [
  {
   "cell_type": "markdown",
   "id": "9a25f0c1",
   "metadata": {},
   "source": [
    "Shift + right click in your saved folder to open powershell and then enter 'jupyter notebook' and press enter to open jupyter notebook\n"
   ]
  },
  {
   "cell_type": "code",
   "execution_count": 1,
   "id": "6774b307",
   "metadata": {},
   "outputs": [],
   "source": [
    "i=19"
   ]
  },
  {
   "cell_type": "code",
   "execution_count": 2,
   "id": "2b21e0fa",
   "metadata": {},
   "outputs": [
    {
     "data": {
      "text/plain": [
       "19"
      ]
     },
     "execution_count": 2,
     "metadata": {},
     "output_type": "execute_result"
    }
   ],
   "source": [
    "i"
   ]
  },
  {
   "cell_type": "code",
   "execution_count": 3,
   "id": "e2db150e",
   "metadata": {},
   "outputs": [
    {
     "name": "stdout",
     "output_type": "stream",
     "text": [
      "kya kr rha hai babu\n"
     ]
    }
   ],
   "source": [
    "print(\"kya kr rha hai babu\")\n"
   ]
  },
  {
   "cell_type": "code",
   "execution_count": 5,
   "id": "c109c3be",
   "metadata": {},
   "outputs": [
    {
     "name": "stdout",
     "output_type": "stream",
     "text": [
      "this is noice\n"
     ]
    }
   ],
   "source": [
    "print(\"this is noice\")"
   ]
  },
  {
   "cell_type": "markdown",
   "id": "de550eb7",
   "metadata": {},
   "source": [
    "use \"code\" option above for coding and \"markdown\" option for comments"
   ]
  },
  {
   "cell_type": "markdown",
   "id": "54cda3c4",
   "metadata": {},
   "source": [
    "# jupyter markdown tutorial"
   ]
  },
  {
   "cell_type": "markdown",
   "id": "8e73b2df",
   "metadata": {},
   "source": [
    "** hash (#) and then something = heading**"
   ]
  },
  {
   "cell_type": "markdown",
   "id": "20c5ceee",
   "metadata": {},
   "source": [
    "**double stars and inside something = bold**"
   ]
  },
  {
   "cell_type": "code",
   "execution_count": 6,
   "id": "8252760a",
   "metadata": {},
   "outputs": [
    {
     "ename": "SyntaxError",
     "evalue": "invalid syntax (721373221.py, line 1)",
     "output_type": "error",
     "traceback": [
      "\u001b[1;36m  Cell \u001b[1;32mIn[6], line 1\u001b[1;36m\u001b[0m\n\u001b[1;33m    *single star and inside something= italics*\u001b[0m\n\u001b[1;37m            ^\u001b[0m\n\u001b[1;31mSyntaxError\u001b[0m\u001b[1;31m:\u001b[0m invalid syntax\n"
     ]
    }
   ],
   "source": [
    "*single star and inside something= italics*"
   ]
  },
  {
   "cell_type": "markdown",
   "id": "aaf8bf41",
   "metadata": {},
   "source": [
    "*single star and inside something = italics*\n"
   ]
  },
  {
   "cell_type": "markdown",
   "id": "a2cc4d8f",
   "metadata": {},
   "source": [
    "# remember to switch between code and markdown!\n"
   ]
  },
  {
   "cell_type": "markdown",
   "id": "31e542c6",
   "metadata": {},
   "source": [
    "# indexing!!!!!!!!!!!!!"
   ]
  },
  {
   "cell_type": "markdown",
   "id": "e3d43015",
   "metadata": {},
   "source": [
    "jupyter notebook indexes what processes are eexecuting first - specifies the order.\n",
    "In [1] means it is executing first and so on...\n",
    "If the order becomes disordered, then go to \"Kernel\" opion and press \"Restart and Run all\" for executing all programs in order."
   ]
  },
  {
   "cell_type": "markdown",
   "id": "87732bec",
   "metadata": {},
   "source": [
    "# deleting a cell\n"
   ]
  },
  {
   "cell_type": "markdown",
   "id": "f3d81e4a",
   "metadata": {},
   "source": [
    "click on left side of cell In [] part and press d d (d 2 times) to delete that cell"
   ]
  },
  {
   "cell_type": "code",
   "execution_count": null,
   "id": "1da58956",
   "metadata": {},
   "outputs": [],
   "source": []
  }
 ],
 "metadata": {
  "kernelspec": {
   "display_name": "Python 3 (ipykernel)",
   "language": "python",
   "name": "python3"
  },
  "language_info": {
   "codemirror_mode": {
    "name": "ipython",
    "version": 3
   },
   "file_extension": ".py",
   "mimetype": "text/x-python",
   "name": "python",
   "nbconvert_exporter": "python",
   "pygments_lexer": "ipython3",
   "version": "3.10.0"
  }
 },
 "nbformat": 4,
 "nbformat_minor": 5
}
